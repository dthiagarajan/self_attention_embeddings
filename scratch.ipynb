{
 "cells": [
  {
   "cell_type": "code",
   "execution_count": 1,
   "metadata": {},
   "outputs": [],
   "source": [
    "import torch\n",
    "import torch.autograd as autograd\n",
    "import torch.nn as nn\n",
    "import torch.nn.functional as F\n",
    "import torch.optim as optim"
   ]
  },
  {
   "cell_type": "code",
   "execution_count": 126,
   "metadata": {},
   "outputs": [],
   "source": [
    "import progressbar\n",
    "import matplotlib\n",
    "matplotlib.use('Agg')\n",
    "import matplotlib.pyplot as plt\n",
    "\n",
    "from utils import *"
   ]
  },
  {
   "cell_type": "code",
   "execution_count": 5,
   "metadata": {},
   "outputs": [
    {
     "name": "stdout",
     "output_type": "stream",
     "text": [
      "Parsing text and loading training data...\n"
     ]
    }
   ],
   "source": [
    "CONTEXT_SIZE = 2\n",
    "EMBEDDING_DIM = 2\n",
    "NUM_EPOCHS = 5\n",
    "NEGATIVE_SAMPLING = False\n",
    "\n",
    "filename = \"medium_text.txt\"\n",
    "print(\"Parsing text and loading training data...\")\n",
    "processed_text, vocab, word_to_ix, ix_to_word, training_data = load_data(filename,\n",
    "                                                             CONTEXT_SIZE, model_type=\"cbow\", subsampling=True, sampling_rate=0.001)\n"
   ]
  },
  {
   "cell_type": "code",
   "execution_count": 121,
   "metadata": {},
   "outputs": [],
   "source": [
    "class CBOW(nn.Module):\n",
    "\n",
    "    def __init__(self, vocab_size, embedding_dim, context_size):\n",
    "        super(CBOW, self).__init__()\n",
    "        self.embeddings = nn.Embedding(vocab_size, embedding_dim)\n",
    "        self.kernel = nn.Parameter(torch.rand(embedding_dim, embedding_dim))\n",
    "        self.linear = nn.Linear(embedding_dim, vocab_size)\n",
    "\n",
    "    def forward(self, inputs, focus):\n",
    "        embeds = self.embeddings(inputs)\n",
    "        alpha = torch.mm(torch.mm(embeds, self.kernel), self.embeddings(focus).t())\n",
    "        alpha = F.softmax(alpha)\n",
    "        embeds = torch.sum(torch.mul(alpha, embeds), 0, keepdim=True)\n",
    "        out = self.linear(embeds)\n",
    "        log_probs = F.log_softmax(out)\n",
    "        return log_probs"
   ]
  },
  {
   "cell_type": "code",
   "execution_count": 124,
   "metadata": {},
   "outputs": [],
   "source": [
    "losses = []\n",
    "loss_function = nn.NLLLoss()\n",
    "model = CBOW(len(vocab), EMBEDDING_DIM, CONTEXT_SIZE)\n",
    "optimizer = optim.SGD(model.parameters(), lr=0.001)"
   ]
  },
  {
   "cell_type": "code",
   "execution_count": 127,
   "metadata": {},
   "outputs": [
    {
     "name": "stdout",
     "output_type": "stream",
     "text": [
      "Starting training\n",
      "Beginning epoch 0\n",
      "Epoch 0 Loss: 22450.66211\n",
      "Beginning epoch 1\n",
      "Epoch 1 Loss: 22010.00000\n",
      "Beginning epoch 2\n",
      "Epoch 2 Loss: 21615.87500\n",
      "Beginning epoch 3\n",
      "Epoch 3 Loss: 21269.98828\n",
      "Beginning epoch 4\n",
      "Epoch 4 Loss: 20959.13281\n"
     ]
    }
   ],
   "source": [
    "print(\"Starting training\")\n",
    "for epoch in range(NUM_EPOCHS):\n",
    "    total_loss = torch.Tensor([0])\n",
    "    print(\"Beginning epoch %d\" % epoch)\n",
    "    progress_bar = progressbar.ProgressBar()\n",
    "    for context, target in progress_bar(training_data):\n",
    "        context_var = autograd.Variable(torch.LongTensor(context))\n",
    "        focus_var = autograd.Variable(torch.LongTensor([target]))\n",
    "        model.zero_grad()\n",
    "        log_probs = model(context_var, focus_var)\n",
    "        loss = loss_function(log_probs, autograd.Variable(\n",
    "            torch.LongTensor([target])))\n",
    "        loss.backward()\n",
    "        optimizer.step()\n",
    "        total_loss += loss.data\n",
    "    print(\"Epoch %d Loss: %.5f\" % (epoch, total_loss[0]))\n",
    "    losses.append(total_loss)"
   ]
  },
  {
   "cell_type": "code",
   "execution_count": null,
   "metadata": {},
   "outputs": [],
   "source": []
  }
 ],
 "metadata": {
  "kernelspec": {
   "display_name": "Python 3",
   "language": "python",
   "name": "python3"
  },
  "language_info": {
   "codemirror_mode": {
    "name": "ipython",
    "version": 3
   },
   "file_extension": ".py",
   "mimetype": "text/x-python",
   "name": "python",
   "nbconvert_exporter": "python",
   "pygments_lexer": "ipython3",
   "version": "3.6.3"
  }
 },
 "nbformat": 4,
 "nbformat_minor": 2
}
